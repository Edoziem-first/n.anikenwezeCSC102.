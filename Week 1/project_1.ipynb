{
 "cells": [
  {
   "cell_type": "code",
   "execution_count": 13,
   "id": "2159d3ca",
   "metadata": {},
   "outputs": [
    {
     "name": "stdout",
     "output_type": "stream",
     "text": [
      "Project one calculator\n",
      "1. SIMPLE INTEREST\n",
      "2. COMPOUND INTEREST\n",
      "3. ANNUITY PLAN\n",
      "What would you like to calculate?3\n",
      "The simple interesst is, 6.014521035965442\n",
      "The simple interesst is, 6.014521035965442\n",
      "Input your PMT7\n",
      "Input your rate8\n",
      "Input the number of years7\n",
      "Input number of compounding months8\n",
      "The simple interesst is, 7.205759403792794e+16\n"
     ]
    }
   ],
   "source": [
    "print(\"Project one calculator\")\n",
    "print(\"1. SIMPLE INTEREST\")\n",
    "print(\"2. COMPOUND INTEREST\")\n",
    "print(\"3. ANNUITY PLAN\")\n",
    "formula = str(input(\"What would you like to calculate?\"))\n",
    "\n",
    "\n",
    "#Simple interest\n",
    "if formula == \"1\":\n",
    "        p = float(input(\"Input your principle\"))\n",
    "        r = float(input(\"Input your rate\"))\n",
    "        t = float(input(\"Input the number of years\"))\n",
    "        a = r/100\n",
    "        b = a + 1\n",
    "        c = b ** t\n",
    "        d = c * p\n",
    "print(\"The simple interesst is,\",d)\n",
    "\n",
    "#Compound interest\n",
    "if formula == \"2\":\n",
    "        p = float(input(\"Input your principle\"))\n",
    "        r = float(input(\"Input your rate\"))\n",
    "        t = float(input(\"Input the number of years\"))\n",
    "        n = float(input(\"Input number of compounding months\"))\n",
    "        a = r/n\n",
    "        b = a + 1\n",
    "        c = b ** (n * t)\n",
    "        d = c * p\n",
    "print(\"The simple interesst is,\",d)\n",
    "\n",
    "#Annuity Plan\n",
    "if formula == \"3\":\n",
    "        p = float(input(\"Input your PMT\"))\n",
    "        r = float(input(\"Input your rate\"))\n",
    "        t = float(input(\"Input the number of years\"))\n",
    "        n = float(input(\"Input number of compounding months\"))\n",
    "        a = r/n\n",
    "        b = a + 1\n",
    "        c = b ** (n * t)\n",
    "        d = c - 1\n",
    "        e = d / a\n",
    "print(\"The simple interesst is,\",e)\n",
    "\n",
    "\n",
    "\n",
    "\n",
    "\n",
    "\n",
    "\n",
    "\n"
   ]
  },
  {
   "cell_type": "code",
   "execution_count": null,
   "id": "fcef3460",
   "metadata": {},
   "outputs": [],
   "source": [
    "\n",
    "\n"
   ]
  },
  {
   "cell_type": "code",
   "execution_count": null,
   "id": "bfcff4a9",
   "metadata": {},
   "outputs": [],
   "source": []
  },
  {
   "cell_type": "code",
   "execution_count": null,
   "id": "30224731",
   "metadata": {},
   "outputs": [],
   "source": []
  },
  {
   "cell_type": "code",
   "execution_count": null,
   "id": "52afb2b8",
   "metadata": {},
   "outputs": [],
   "source": []
  },
  {
   "cell_type": "code",
   "execution_count": null,
   "id": "825340d8",
   "metadata": {},
   "outputs": [],
   "source": []
  },
  {
   "cell_type": "code",
   "execution_count": null,
   "id": "b9771d45",
   "metadata": {},
   "outputs": [],
   "source": []
  },
  {
   "cell_type": "code",
   "execution_count": null,
   "id": "6efe5edc",
   "metadata": {},
   "outputs": [],
   "source": []
  },
  {
   "cell_type": "code",
   "execution_count": null,
   "id": "a96ac3a6",
   "metadata": {},
   "outputs": [],
   "source": []
  },
  {
   "cell_type": "code",
   "execution_count": null,
   "id": "f5f5a55e",
   "metadata": {},
   "outputs": [],
   "source": []
  },
  {
   "cell_type": "code",
   "execution_count": null,
   "id": "f95100de",
   "metadata": {},
   "outputs": [],
   "source": []
  },
  {
   "cell_type": "code",
   "execution_count": null,
   "id": "ca965fe8",
   "metadata": {},
   "outputs": [],
   "source": []
  },
  {
   "cell_type": "code",
   "execution_count": null,
   "id": "7b68d648",
   "metadata": {},
   "outputs": [],
   "source": []
  },
  {
   "cell_type": "code",
   "execution_count": null,
   "id": "be88b98b",
   "metadata": {},
   "outputs": [],
   "source": []
  },
  {
   "cell_type": "code",
   "execution_count": null,
   "id": "e50a2a62",
   "metadata": {},
   "outputs": [],
   "source": []
  },
  {
   "cell_type": "code",
   "execution_count": null,
   "id": "ac787d06",
   "metadata": {},
   "outputs": [],
   "source": []
  }
 ],
 "metadata": {
  "kernelspec": {
   "display_name": "Python 3 (ipykernel)",
   "language": "python",
   "name": "python3"
  },
  "language_info": {
   "codemirror_mode": {
    "name": "ipython",
    "version": 3
   },
   "file_extension": ".py",
   "mimetype": "text/x-python",
   "name": "python",
   "nbconvert_exporter": "python",
   "pygments_lexer": "ipython3",
   "version": "3.10.9"
  }
 },
 "nbformat": 4,
 "nbformat_minor": 5
}
