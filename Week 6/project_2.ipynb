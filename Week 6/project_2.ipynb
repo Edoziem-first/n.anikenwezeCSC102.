{
 "cells": [
  {
   "cell_type": "code",
   "execution_count": 18,
   "id": "b382e6e1",
   "metadata": {},
   "outputs": [],
   "source": [
    "import pandas as pd\n",
    "\n",
    "# Define the data as a dictionary\n",
    "data = {'Exports':['Cocoa butter', 'Cocoa cake', 'Cocoa liquor'],\n",
    "        'Segments': ['Refreshment Beverages', 'Confectionery', 'Intermediate Cocoa Products'],\n",
    "         'Brands': ['CADBURY BOURNVITA | CADBURY 3-in-1 HOT CHOCOLATE', 'TOMTOM CLASSIC | TOMTOM STRAWBERRY | BUTTERMINT', 'COCOA POWDER | COCOA BUTTER']}\n",
    "   \n",
    "\n",
    "# Create a DataFrame from the dictionary\n",
    "df = pd.DataFrame(data)\n",
    "\n",
    "# Save the DataFrame as a CSV file\n",
    "df.to_csv('cadbury_products.csv')"
   ]
  },
  {
   "cell_type": "code",
   "execution_count": null,
   "id": "80377238",
   "metadata": {},
   "outputs": [],
   "source": []
  },
  {
   "cell_type": "code",
   "execution_count": null,
   "id": "496349d6",
   "metadata": {},
   "outputs": [],
   "source": []
  }
 ],
 "metadata": {
  "kernelspec": {
   "display_name": "Python 3 (ipykernel)",
   "language": "python",
   "name": "python3"
  },
  "language_info": {
   "codemirror_mode": {
    "name": "ipython",
    "version": 3
   },
   "file_extension": ".py",
   "mimetype": "text/x-python",
   "name": "python",
   "nbconvert_exporter": "python",
   "pygments_lexer": "ipython3",
   "version": "3.10.9"
  }
 },
 "nbformat": 4,
 "nbformat_minor": 5
}
