{
 "cells": [
  {
   "cell_type": "code",
   "execution_count": 13,
   "id": "794a2008",
   "metadata": {},
   "outputs": [
    {
     "name": "stdout",
     "output_type": "stream",
     "text": [
      "Welcome to the Class of 2023 \n",
      "\n",
      "girls_name | girls_age | girls_height | girls_score\n",
      "Samantha | 17 | 5.5 | 80 |\n",
      "Jada | 16 | 6.0 | 85 |\n",
      "Jane | 17 | 5.4 | 70 |\n",
      "Claire | 18 | 5.9 | 60 |\n",
      "Elizabeth | 16 | 5.6 | 76 |\n",
      "Mary | 18 | 5.5 | 66 |\n",
      "Susan | 16 | 6.1 | 87 |\n",
      "Waje | 18 | 6.0 | 95 |\n",
      "Taibat | 17 | 5.7 | 50 |\n",
      "Lilian | 20 | 5.5 | 49 |\n",
      "...................................................\n",
      "...................................................\n",
      "boys_name | boys_age | boys_height | boys_score\n",
      "Charles | 17 | 5.5 | 80 |\n",
      "Jude | 16 | 6.0 | 85 |\n",
      "James | 17 | 5.4 | 70 |\n",
      "Kelvin | 18 | 5.9 | 60 |\n",
      "Biodun | 16 | 5.6 | 76 |\n",
      "Wale | 18 | 5.5 | 66 |\n",
      "Kunle | 16 | 6.1 | 87 |\n",
      "Matthew | 18 | 6.0 | 95 |\n",
      "Tom | 17 | 5.7 | 50 |\n",
      "Kayode | 20 | 5.5 | 49 |\n"
     ]
    }
   ],
   "source": [
    "# Playing with dictionaries with example problems \n",
    "\n",
    "print(\"Welcome to the Class of 2023 \\n\")\n",
    "\n",
    "# Data of students in the class\n",
    "\n",
    "girls_name = ('Samantha', 'Jada', 'Jane', 'Claire', 'Elizabeth', 'Mary', 'Susan', 'Waje', 'Taibat', 'Lilian')\n",
    "girls_age = ('17', '16', '17', '18', '16', '18', '16', '18', '17', '20', '19', '17')\n",
    "girls_height = ('5.5', '6.0', '5.4', '5.9', '5.6', '5.5', '6.1', '6.0', '5.7', '5.5', '6.1', '5.5')\n",
    "girls_score = ('80', '85', '70', '60', '76', '66', '87', '95', '50', '49', '70', '78')\n",
    "\n",
    "boys_name = ('Charles', 'Jude', 'James', 'Kelvin', 'Biodun', 'Wale', 'Kunle', 'Matthew', 'Tom', 'Kayode')\n",
    "boys_age = ('17', '16', '17', '18', '16', '18', '16', '18', '17', '20', '19', '17')\n",
    "boys_height = ('5.5', '6.0', '5.4', '5.9', '5.6', '5.5', '6.1', '6.0', '5.7', '5.5', '6.1', '5.5')\n",
    "boys_score = ('80', '85', '70', '60', '76', '66', '87', '95', '50', '49', '70', '78')\n",
    "\n",
    "print(\"girls_name | girls_age | girls_height | girls_score\")\n",
    "\n",
    "for i in range(len(girls_name)):\n",
    "    print(girls_name[i],\"|\", girls_age[i],\"|\", girls_height[i],\"|\", girls_score[i],\"|\" )\n",
    "\n",
    "print('...................................................')\n",
    "print('...................................................')\n",
    "\n",
    "print(\"boys_name | boys_age | boys_height | boys_score\")\n",
    "\n",
    "for i in range(len(boys_name)):\n",
    "    print(boys_name[i],\"|\", boys_age[i],\"|\", boys_height[i],\"|\", boys_score[i],\"|\" )\n",
    "\n",
    "\n",
    "            \n",
    "            \n",
    "\n",
    "\n",
    "\n"
   ]
  },
  {
   "cell_type": "code",
   "execution_count": null,
   "id": "29b3ae0b",
   "metadata": {},
   "outputs": [],
   "source": []
  }
 ],
 "metadata": {
  "kernelspec": {
   "display_name": "Python 3 (ipykernel)",
   "language": "python",
   "name": "python3"
  },
  "language_info": {
   "codemirror_mode": {
    "name": "ipython",
    "version": 3
   },
   "file_extension": ".py",
   "mimetype": "text/x-python",
   "name": "python",
   "nbconvert_exporter": "python",
   "pygments_lexer": "ipython3",
   "version": "3.10.9"
  }
 },
 "nbformat": 4,
 "nbformat_minor": 5
}
