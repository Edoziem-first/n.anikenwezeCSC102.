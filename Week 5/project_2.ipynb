{
 "cells": [
  {
   "cell_type": "code",
   "execution_count": null,
   "id": "50e455af",
   "metadata": {},
   "outputs": [
    {
     "name": "stdout",
     "output_type": "stream",
     "text": [
      "WELCOME TO FIN-TECHS\n",
      "What is your name? : edoziem\n",
      "Welcome edoziem, to FinTechs\n",
      "Enter a number of years of experience: 70\n",
      "Enter your age: 56\n",
      "ATR = $5,600,000\n"
     ]
    }
   ],
   "source": [
    "# playing with loops \n",
    "\n",
    "print(\"WELCOME TO FIN-TECHS\")\n",
    " \n",
    "for i in range (2500):  \n",
    "\n",
    " name = input(\"What is your name? : \")\n",
    " print(f\"Welcome {name}, to FinTechs\")\n",
    "    \n",
    " years_of_experience = int(input(\"Enter a number of years of experience: \"))\n",
    " age_of_staff = int(input(\"Enter your age: \"))\n",
    "      \n",
    "    \n",
    "\n",
    " if years_of_experience >= 25 and age_of_staff >= 55:\n",
    "    print(\"ATR = $5,600,000\")\n",
    " elif years_of_experience >= 20 and age_of_staff >= 45:\n",
    "    print(\"ATR = $4,480,000\")\n",
    " elif years_of_experience >= 10 and age_of_staff >= 35:\n",
    "    print(\"ATR = $1,500,00\")\n",
    " elif years_of_experience < 10 and age_of_staff < 35:\n",
    "    print(\"ATR = $550,000\")\n",
    " else:\n",
    "    print(\"You are not eligible\")"
   ]
  },
  {
   "cell_type": "code",
   "execution_count": null,
   "id": "01a8eba0",
   "metadata": {},
   "outputs": [],
   "source": []
  },
  {
   "cell_type": "code",
   "execution_count": null,
   "id": "e6656491",
   "metadata": {},
   "outputs": [],
   "source": []
  },
  {
   "cell_type": "code",
   "execution_count": null,
   "id": "6ef39134",
   "metadata": {},
   "outputs": [],
   "source": []
  },
  {
   "cell_type": "code",
   "execution_count": null,
   "id": "ed6be834",
   "metadata": {},
   "outputs": [],
   "source": []
  }
 ],
 "metadata": {
  "kernelspec": {
   "display_name": "Python 3 (ipykernel)",
   "language": "python",
   "name": "python3"
  },
  "language_info": {
   "codemirror_mode": {
    "name": "ipython",
    "version": 3
   },
   "file_extension": ".py",
   "mimetype": "text/x-python",
   "name": "python",
   "nbconvert_exporter": "python",
   "pygments_lexer": "ipython3",
   "version": "3.10.9"
  }
 },
 "nbformat": 4,
 "nbformat_minor": 5
}
