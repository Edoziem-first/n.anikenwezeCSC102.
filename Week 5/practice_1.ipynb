{
 "cells": [
  {
   "cell_type": "code",
   "execution_count": 1,
   "id": "be6eb060",
   "metadata": {},
   "outputs": [
    {
     "name": "stdout",
     "output_type": "stream",
     "text": [
      "Enter name of city 1: Lagos\n",
      "Enter name of city 2: Warri\n"
     ]
    },
    {
     "ename": "NameError",
     "evalue": "name 'city_2' is not defined",
     "output_type": "error",
     "traceback": [
      "\u001b[0;31m---------------------------------------------------------------------------\u001b[0m",
      "\u001b[0;31mNameError\u001b[0m                                 Traceback (most recent call last)",
      "Cell \u001b[0;32mIn[1], line 9\u001b[0m\n\u001b[1;32m      7\u001b[0m \u001b[38;5;66;03m#create a temporary variable and swap the cities \u001b[39;00m\n\u001b[1;32m      8\u001b[0m temp \u001b[38;5;241m=\u001b[39m city_1\n\u001b[0;32m----> 9\u001b[0m city_1 \u001b[38;5;241m=\u001b[39m \u001b[43mcity_2\u001b[49m\n\u001b[1;32m     10\u001b[0m city_2 \u001b[38;5;241m=\u001b[39m temp \n\u001b[1;32m     13\u001b[0m \u001b[38;5;28mprint\u001b[39m(\u001b[38;5;124mf\u001b[39m\u001b[38;5;124m\"\u001b[39m\u001b[38;5;124mThe name of City 1 after swapping is \u001b[39m\u001b[38;5;132;01m{\u001b[39;00mcity_1\u001b[38;5;132;01m}\u001b[39;00m\u001b[38;5;124m\"\u001b[39m)\n",
      "\u001b[0;31mNameError\u001b[0m: name 'city_2' is not defined"
     ]
    }
   ],
   "source": [
    "#Pyython program to swap two cities \n",
    "\n",
    "# To take inputs from the user \n",
    "city_1 = input('Enter name of city 1: ')\n",
    "city_2 = input('Enter name of city 2: ')\n",
    "\n",
    "#create a temporary variable and swap the cities \n",
    "temp = city_1\n",
    "city_1 = city_2\n",
    "city_2 = temp \n",
    "\n",
    "\n",
    "print(f\"The name of City 1 after swapping is {city_1}\")\n",
    "print(f\"The name of City 2 after swapping is {city_2}\")\n"
   ]
  },
  {
   "cell_type": "code",
   "execution_count": 2,
   "id": "73d34a30",
   "metadata": {},
   "outputs": [
    {
     "name": "stdout",
     "output_type": "stream",
     "text": [
      "Enter name of city 1: Lagos \n",
      "Enter name of city 2: Warri\n",
      "The name of City 1 after swapping is Warri\n",
      "The name of City 2 after swapping is Lagos \n"
     ]
    }
   ],
   "source": [
    "#Pyython program to swap two cities \n",
    "\n",
    "# To take inputs from the user \n",
    "city_1 = input('Enter name of city 1: ')\n",
    "city_2 = input('Enter name of city 2: ')\n",
    "\n",
    "#create a temporary variable and swap the cities \n",
    "temp = city_1\n",
    "city_1 = city_2\n",
    "city_2 = temp \n",
    "\n",
    "\n",
    "print(f\"The name of City 1 after swapping is {city_1}\")\n",
    "print(f\"The name of City 2 after swapping is {city_2}\")\n"
   ]
  },
  {
   "cell_type": "code",
   "execution_count": null,
   "id": "2b083f20",
   "metadata": {},
   "outputs": [],
   "source": []
  }
 ],
 "metadata": {
  "kernelspec": {
   "display_name": "Python 3 (ipykernel)",
   "language": "python",
   "name": "python3"
  },
  "language_info": {
   "codemirror_mode": {
    "name": "ipython",
    "version": 3
   },
   "file_extension": ".py",
   "mimetype": "text/x-python",
   "name": "python",
   "nbconvert_exporter": "python",
   "pygments_lexer": "ipython3",
   "version": "3.10.9"
  }
 },
 "nbformat": 4,
 "nbformat_minor": 5
}
